{
 "cells": [
  {
   "cell_type": "code",
   "execution_count": 1,
   "metadata": {},
   "outputs": [],
   "source": [
    "import os\n",
    "os.environ[\"CUDA_VISIBLE_DEVICES\"]=\"0\"\n",
    "import glob\n",
    "import glob\n",
    "from vollseg import SmartSeeds2D\n",
    "from tifffile import imread, imwrite\n",
    "os.environ[\"HDF5_USE_FILE_LOCKING\"] = \"FALSE\""
   ]
  },
  {
   "cell_type": "markdown",
   "metadata": {},
   "source": [
    "# In the cell below specify the following:\n",
    "\n"
   ]
  },
  {
   "cell_type": "code",
   "execution_count": null,
   "metadata": {},
   "outputs": [],
   "source": [
    "base_dir = '/data/'\n",
    "npz_filename = 'TissueSeg'\n",
    "model_dir = '/data/'\n",
    "model_name = 'TissueSeg'\n",
    "\n",
    "raw_dir = '/Raw/'\n",
    "binary_mask_dir = '/binary_mask/'\n",
    "\n"
   ]
  },
  {
   "cell_type": "markdown",
   "metadata": {},
   "source": [
    "# In this cell choose the network training parameters for the Neural Network\n",
    "\n"
   ]
  },
  {
   "cell_type": "code",
   "execution_count": null,
   "metadata": {},
   "outputs": [],
   "source": [
    "#Network training parameters\n",
    "depth = 3\n",
    "epochs = 100\n",
    "learning_rate = 1.0E-4\n",
    "batch_size = 1\n",
    "patch_x = 1024\n",
    "patch_y = 1024\n",
    "kern_size = 3\n",
    "n_patches_per_image = 16\n",
    "startfilter = 48\n",
    "use_gpu_opencl = True\n",
    "generate_npz = True\n",
    "validation_split = 0.01"
   ]
  },
  {
   "cell_type": "markdown",
   "metadata": {},
   "source": [
    "# Generate the npz file first and then train the model"
   ]
  },
  {
   "cell_type": "code",
   "execution_count": null,
   "metadata": {
    "scrolled": false
   },
   "outputs": [],
   "source": [
    "SmartSeeds2D(base_dir = base_dir, \n",
    "             npz_filename = npz_filename, \n",
    "             model_name = model_name, \n",
    "             model_dir = model_dir,\n",
    "             raw_dir = raw_dir,\n",
    "             binary_mask_dir = binary_mask_dir,\n",
    "             validation_split = validation_split, \n",
    "             n_patches_per_image = n_patches_per_image, \n",
    "             generate_npz = generate_npz, \n",
    "             train_unet = train_unet, \n",
    "             train_star = False,\n",
    "             train_seed_unet = False,\n",
    "             patch_x= patch_x, \n",
    "             patch_y= patch_y, \n",
    "             batch_size = batch_size, \n",
    "             depth = depth, \n",
    "             kern_size = kern_size, \n",
    "             startfilter = startfilter, \n",
    "             epochs = epochs, \n",
    "             learning_rate = learning_rate)"
   ]
  }
 ],
 "metadata": {
  "kernelspec": {
   "display_name": "Python 3 (ipykernel)",
   "language": "python",
   "name": "python3"
  },
  "language_info": {
   "codemirror_mode": {
    "name": "ipython",
    "version": 3
   },
   "file_extension": ".py",
   "mimetype": "text/x-python",
   "name": "python",
   "nbconvert_exporter": "python",
   "pygments_lexer": "ipython3",
   "version": "3.9.7"
  }
 },
 "nbformat": 4,
 "nbformat_minor": 2
}
