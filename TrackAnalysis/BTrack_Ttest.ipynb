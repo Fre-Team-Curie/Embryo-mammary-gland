{
 "cells": [
  {
   "cell_type": "code",
   "execution_count": null,
   "id": "b28557ed",
   "metadata": {},
   "outputs": [],
   "source": [
    "import os\n",
    "import matplotlib.pyplot as plt\n",
    "from collections import namedtuple\n",
    "import seaborn as sns, numpy as np\n",
    "import pandas as pd\n",
    "import numpy as np\n",
    "\n",
    "import scipy.stats as st\n",
    "\n",
    "from pathlib import Path\n",
    "TtestResults = namedtuple(\"Ttest\", \"T p\")"
   ]
  },
  {
   "cell_type": "code",
   "execution_count": null,
   "id": "d77be693",
   "metadata": {},
   "outputs": [],
   "source": [
    "FGFCsvFile = 'fileA.csv'\n",
    "WTCsvFile = 'fileB.csv'\n",
    "Savedir = 'TTest/'\n",
    "Path(Savedir).mkdir(exist_ok=True)"
   ]
  },
  {
   "cell_type": "code",
   "execution_count": null,
   "id": "fd20891e",
   "metadata": {},
   "outputs": [],
   "source": [
    "datasetFGF = pd.read_csv(FGFCsvFile)\n",
    "dfFGF = pd.DataFrame(datasetFGF)\n",
    "\n",
    "\n",
    "velocityFGF = datasetFGF[\"Velocity\"]\n",
    "velocityFGF = np.asarray(velocityFGF)\n",
    "\n",
    "datasetWT = pd.read_csv(WTCsvFile)\n",
    "dfWT = pd.DataFrame(datasetWT)\n",
    "\n",
    "velocityWT = datasetWT[\"Velocity\"]\n",
    "velocityWT = np.asarray(velocityWT)\n",
    "\n"
   ]
  },
  {
   "cell_type": "code",
   "execution_count": null,
   "id": "5ed0a249",
   "metadata": {},
   "outputs": [],
   "source": [
    "def t_welch(x, y, tails=2):\n",
    "    \"\"\"\n",
    "    Welch's t-test for two unequal-size samples, not assuming equal variances\n",
    "    \"\"\"\n",
    "    assert tails in (1,2), \"invalid: tails must be 1 or 2, found %s\"%str(tails)\n",
    "    x, y = np.asarray(x), np.asarray(y)\n",
    "    nx, ny = x.size, y.size\n",
    "    vx, vy = x.var(ddof=1), y.var(ddof=1)\n",
    "    df = ((vx/nx + vy/ny)**2 / # Welch-Satterthwaite equation\n",
    "            ((vx/nx)**2 / (nx - 1) + (vy/ny)**2 / (ny - 1)))\n",
    "    t_obs = (x.mean() - y.mean()) / np.sqrt(vx/nx + vy/ny)\n",
    "    p_value = tails * st.t.sf(abs(t_obs), df)\n",
    "    return TtestResults(t_obs, p_value)"
   ]
  },
  {
   "cell_type": "code",
   "execution_count": null,
   "id": "f5fa9918",
   "metadata": {},
   "outputs": [],
   "source": [
    "ttestresult = t_welch(velocityWT, velocityFGF)\n",
    "print(ttestresult)\n",
    "\n",
    "t, p = st.ttest_ind(velocityWT, velocityFGF, equal_var = False)\n",
    "\n",
    "print(t, p)"
   ]
  }
 ],
 "metadata": {
  "kernelspec": {
   "display_name": "Python 3 (ipykernel)",
   "language": "python",
   "name": "python3"
  },
  "language_info": {
   "codemirror_mode": {
    "name": "ipython",
    "version": 3
   },
   "file_extension": ".py",
   "mimetype": "text/x-python",
   "name": "python",
   "nbconvert_exporter": "python",
   "pygments_lexer": "ipython3",
   "version": "3.9.0"
  }
 },
 "nbformat": 4,
 "nbformat_minor": 5
}
