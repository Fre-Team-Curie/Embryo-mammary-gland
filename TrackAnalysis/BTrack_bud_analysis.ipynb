{
 "cells": [
  {
   "cell_type": "code",
   "execution_count": 6,
   "metadata": {},
   "outputs": [],
   "source": [
    "\n",
    "import sys\n",
    "import os\n",
    "import numpy as np\n",
    "import matplotlib.pyplot as plt\n",
    "from tifffile import imread, imwrite\n",
    "from pathlib import Path\n",
    "%matplotlib inline\n",
    "import napari\n",
    "from vollseg import MaxProjectDist, doubleplot,multiplot, multiplotline\n",
    "\n",
    "import glob\n",
    "from skimage.filters import sobel\n",
    "import csv\n",
    "import cv2\n",
    "import pandas as pd\n",
    "from tifffile import imread, imwrite\n",
    " \n",
    "    \n"
   ]
  },
  {
   "cell_type": "code",
   "execution_count": null,
   "metadata": {},
   "outputs": [],
   "source": [
    "originalimage = 'image.tif'\n",
    "basedir = 'base/'\n",
    "resultdir = basedir + 'Results/'\n",
    "Path(resultdir).mkdir(exist_ok = True)\n",
    "#I forgot the space-time calibration in BTrack\n",
    "space = 1\n",
    "timecal = 1 #minutes\n",
    "# Time frames for averaging velocity (in pixel units)\n",
    "TimeWindow = 5"
   ]
  },
  {
   "cell_type": "code",
   "execution_count": null,
   "metadata": {
    "scrolled": false
   },
   "outputs": [],
   "source": [
    "Raw_path = os.path.join(basedir, '*tif')\n",
    "filesRaw = glob.glob(Raw_path)\n",
    "\n",
    "AllTracks = []\n",
    "AllTracksName = []\n",
    "original = imread(originalimage)\n",
    "pinkimage = np.zeros_like(original) \n",
    "Name = os.path.basename(os.path.splitext(originalimage)[0])\n",
    "\n",
    "BTrackName = Name + 'BTrack_Track'\n",
    "PinkName = Name + 'BTrack_Pink'\n",
    "print('File Analyzed:', Name)\n",
    "\n",
    "for fname in filesRaw:\n",
    "    \n",
    "    \n",
    "    TrackName = os.path.basename(os.path.splitext(fname)[0])\n",
    "    if PinkName in TrackName:\n",
    "        pinkimage = imread(fname)\n",
    "        \n",
    "    if BTrackName in TrackName:\n",
    "       image = imread(fname)\n",
    "       timage = np.zeros_like(image) \n",
    "       for i in range(0, image.shape[0]): \n",
    "          smallimage = image[i,:]\n",
    "          index = (np.where(smallimage == np.max(smallimage))[1][0],np.where(smallimage == np.max(smallimage))[0][0] )\n",
    "          timage[i,:] = cv2.putText(np.zeros_like(smallimage), TrackName.replace(BTrackName, ''), index,cv2.FONT_HERSHEY_SIMPLEX, 1,(209, 80, 0, 255),2)\n",
    "       \n",
    "       AllTracks.append(image)\n",
    "       AllTracksName.append(timage)\n",
    "AllTracks = np.asarray(AllTracks)  \n",
    "AllTracksName = np.asarray(AllTracksName)  \n",
    "\n",
    "print('Total Tracks:', AllTracks.shape[0])    \n",
    "TrackImage = MaxProjectDist(AllTracks, axis = 0)\n",
    "TrackImageName = MaxProjectDist(AllTracksName, axis = 0)\n",
    "multiplot(original[0,:],TrackImage[0,:],TrackImageName[0,:], 'Original', 'Tracks', 'TrackIDs')\n"
   ]
  },
  {
   "cell_type": "code",
   "execution_count": null,
   "metadata": {},
   "outputs": [],
   "source": [
    "with napari.gui_qt():\n",
    "    viewer = napari.view_image(original, name='Bud')\n",
    "    Tracks = viewer.add_labels(TrackImage, name = 'TrackImage')\n",
    "    Pinks = viewer.add_labels(pinkimage, name = 'DotImage')\n",
    "    Name = viewer.add_labels(np.asarray(TrackImageName).astype('uint16'), name='TrackName')"
   ]
  },
  {
   "cell_type": "code",
   "execution_count": null,
   "metadata": {},
   "outputs": [],
   "source": [
    "ModifiedArray = viewer.layers['TrackName'].data \n",
    "imwrite((resultdir + 'TrackName' + '.tif' ) , ModifiedArray.astype('uint16'))\n",
    "ModifiedArray = viewer.layers['TrackImage'].data \n",
    "imwrite((resultdir + 'TrackImage' + '.tif' ) , ModifiedArray.astype('uint16'))        "
   ]
  },
  {
   "cell_type": "code",
   "execution_count": null,
   "metadata": {},
   "outputs": [],
   "source": [
    "Raw_path = os.path.join(basedir, '*txt')\n",
    "filesRaw = glob.glob(Raw_path)\n",
    "\n",
    "SaveTrackName = 'BudGrowthBTrack_Track'\n",
    "\n",
    "AllTrackData = []\n",
    "for fname in filesRaw:\n",
    "\n",
    "     Velocity = []\n",
    "     if SaveTrackName in fname:\n",
    "        TrackName = os.path.basename(os.path.splitext(fname)[0])\n",
    "        if SaveTrackName in TrackName:\n",
    "               TrackName = TrackName.replace(SaveTrackName,'')\n",
    "           \n",
    "        time,x,y,velocity,meanrate,maxrate = np.loadtxt(fname, delimiter = ',', skiprows = 1, unpack = True) \n",
    "        df = pd.DataFrame(list(zip(time*timecal,x,y,velocity)), columns =['Time', 'X', 'Y', 'Velocity'])\n",
    "        AllTrackData.append([df,TrackName ])\n",
    "        "
   ]
  },
  {
   "cell_type": "code",
   "execution_count": null,
   "metadata": {
    "scrolled": false
   },
   "outputs": [],
   "source": [
    "#Simple moving average\n",
    "SMATrackData = []\n",
    "def SMA(Velocity, Window):\n",
    "    \n",
    "    Moving_Average = []\n",
    "    i = 0\n",
    "    while i < len(Velocity) - Window + 1:\n",
    "\n",
    "          this_window = Velocity[i:i + Window] \n",
    "          window_average = sum(this_window) / Window\n",
    "          Moving_Average.append(window_average)\n",
    "          i = i + 1  \n",
    "            \n",
    "    return Moving_Average\n",
    "for j in range(0,len(AllTrackData)):\n",
    "    \n",
    "    data, name = AllTrackData[j]\n",
    "    AverageVelocity = SMA(data['Velocity']/timecal,TimeWindow)\n",
    "    TimePeriod = data['Time'][0:len(data['Time']) - TimeWindow + 1]\n",
    "    SMATrackData.append([AverageVelocity,TimePeriod,name])\n",
    "    \n",
    "    \n",
    "    plt.plot(TimePeriod,AverageVelocity )\n",
    "    plt.title(name)\n",
    "    plt.xlabel('Time(min)')\n",
    "    plt.ylabel('Velocity(um)')\n",
    "    \n",
    "    \n",
    "    \n",
    "    \n",
    "    plt.show()\n",
    "    \n",
    "    \n",
    "    "
   ]
  },
  {
   "cell_type": "markdown",
   "metadata": {},
   "source": [
    "# In this cell remove the bad tracks by putting their number"
   ]
  },
  {
   "cell_type": "code",
   "execution_count": null,
   "metadata": {},
   "outputs": [],
   "source": [
    "#Put the numbers inside the bracket\n",
    "BadTracks = []\n",
    "\n",
    "#Bad tracks should have gone above\n",
    "\n",
    "RemoveTrack = []\n",
    "for i in range(0,len(BadTracks)):\n",
    "  RemoveTrack.append('ID' + str(BadTracks[i]))\n",
    "for j in range(0,len(AllTrackData)):\n",
    "    \n",
    "    data, name = AllTrackData[j]\n",
    "    if name in RemoveTrack:\n",
    "        continue\n",
    "    else:    \n",
    "      AverageVelocity = SMA(data['Velocity'],TimeWindow)\n",
    "      TimePeriod = data['Time'][0:len(data['Time']) - TimeWindow + 1]\n",
    "      plt.plot(TimePeriod,AverageVelocity )\n",
    "      plt.savefig(resultdir + name + 'Velocity' + '.png')\n",
    "      \n",
    "      plt.close()"
   ]
  },
  {
   "cell_type": "code",
   "execution_count": null,
   "metadata": {},
   "outputs": [],
   "source": [
    "ExperimentAverage = []\n",
    "ExperimentName = []\n",
    "for velocity, time, name in SMATrackData:\n",
    "    averagevelocity = 0\n",
    "    if name in RemoveTrack:\n",
    "        continue\n",
    "    else:    \n",
    "      for i in range(0,len(velocity)):\n",
    "          averagevelocity = averagevelocity + velocity[i]\n",
    "      averagevelocity /=len(velocity)\n",
    "      ExperimentAverage.append(averagevelocity)\n",
    "      ExperimentName.append(name)\n",
    "    "
   ]
  },
  {
   "cell_type": "code",
   "execution_count": null,
   "metadata": {},
   "outputs": [],
   "source": [
    "\n",
    "df = pd.DataFrame(list(zip(ExperimentName,ExperimentAverage)), index = ExperimentName, columns =['ID','MeanVelocity'])\n",
    "OverAllExperiment = np.sum(df['MeanVelocity'])/len(df['MeanVelocity'])\n",
    "\n",
    "df.to_csv(resultdir + '/' + 'AllExperiments' + 'MeanVelocity' +  '.csv')  \n",
    "df\n"
   ]
  },
  {
   "cell_type": "code",
   "execution_count": null,
   "metadata": {},
   "outputs": [],
   "source": [
    "fig= plt.figure(figsize=(10,6))\n",
    "plt.plot(ExperimentName, ExperimentAverage, '.b', alpha=0.6,label='Mean Velocity Tracks')\n",
    "print('Overall experiment average Velocity', OverAllExperiment)\n",
    "plt.savefig(resultdir + 'AllExperiments' + 'MeanVelocity' + '.png')\n",
    "      \n",
    "plt.show()\n"
   ]
  },
  {
   "cell_type": "code",
   "execution_count": null,
   "metadata": {},
   "outputs": [],
   "source": []
  }
 ],
 "metadata": {
  "kernelspec": {
   "display_name": "Python 3 (ipykernel)",
   "language": "python",
   "name": "python3"
  },
  "language_info": {
   "codemirror_mode": {
    "name": "ipython",
    "version": 3
   },
   "file_extension": ".py",
   "mimetype": "text/x-python",
   "name": "python",
   "nbconvert_exporter": "python",
   "pygments_lexer": "ipython3",
   "version": "3.9.0"
  }
 },
 "nbformat": 4,
 "nbformat_minor": 2
}
